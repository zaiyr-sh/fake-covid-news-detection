{
  "nbformat": 4,
  "nbformat_minor": 0,
  "metadata": {
    "colab": {
      "name": "Fake Covid News Detection.ipynb",
      "provenance": [],
      "collapsed_sections": []
    },
    "kernelspec": {
      "name": "python3",
      "display_name": "Python 3"
    },
    "language_info": {
      "name": "python"
    }
  },
  "cells": [
    {
      "cell_type": "code",
      "metadata": {
        "id": "CnwAdFt45u7-"
      },
      "source": [
        "from sklearn.metrics import classification_report\n",
        "from sklearn.model_selection import train_test_split\n",
        "import pandas as pd\n",
        "import re\n",
        "import string"
      ],
      "execution_count": 4,
      "outputs": []
    },
    {
      "cell_type": "code",
      "metadata": {
        "id": "dENLSLxV6g1n"
      },
      "source": [
        "df = pd.read_csv(\"Constraint_Train.csv\")"
      ],
      "execution_count": 5,
      "outputs": []
    },
    {
      "cell_type": "code",
      "metadata": {
        "colab": {
          "base_uri": "https://localhost:8080/"
        },
        "id": "YuCfF0-X6koP",
        "outputId": "8906b3e5-c11f-430b-c9a4-47f9b85e7835"
      },
      "source": [
        "df.shape"
      ],
      "execution_count": 6,
      "outputs": [
        {
          "output_type": "execute_result",
          "data": {
            "text/plain": [
              "(6424, 3)"
            ]
          },
          "metadata": {},
          "execution_count": 6
        }
      ]
    },
    {
      "cell_type": "code",
      "metadata": {
        "colab": {
          "base_uri": "https://localhost:8080/"
        },
        "id": "22sgWBtC6nS6",
        "outputId": "c1ac8d04-8169-445c-f24c-031d0958980a"
      },
      "source": [
        "df.loc[df['label'] == 'real','label'] = 1\n",
        "df.loc[df['label'] == 'fake','label'] = 0\n",
        "df.isnull().sum()"
      ],
      "execution_count": 7,
      "outputs": [
        {
          "output_type": "execute_result",
          "data": {
            "text/plain": [
              "id       0\n",
              "tweet    0\n",
              "label    0\n",
              "dtype: int64"
            ]
          },
          "metadata": {},
          "execution_count": 7
        }
      ]
    },
    {
      "cell_type": "code",
      "metadata": {
        "id": "zrxz0pcp7RsK"
      },
      "source": [
        "def word_filter(text):\n",
        "    text = text.lower()\n",
        "    text = re.sub('\\[.*?\\]', '', text)\n",
        "    text = re.sub(\"\\\\W\",\" \",text) \n",
        "    text = re.sub('https?://\\S+|www\\.\\S+', '', text)\n",
        "    text = re.sub('<.*?>+', '', text)\n",
        "    text = re.sub('[%s]' % re.escape(string.punctuation), '', text)\n",
        "    text = re.sub('\\n', '', text)\n",
        "    text = re.sub('\\w*\\d\\w*', '', text)    \n",
        "    return text"
      ],
      "execution_count": 9,
      "outputs": []
    },
    {
      "cell_type": "code",
      "metadata": {
        "id": "aIXtrgN67X1_"
      },
      "source": [
        "df['tweet'] = df['tweet'].apply(word_filter)"
      ],
      "execution_count": 10,
      "outputs": []
    },
    {
      "cell_type": "code",
      "metadata": {
        "id": "i48eubzd7aO3"
      },
      "source": [
        "x = df['tweet']\n",
        "y = df['label']"
      ],
      "execution_count": 11,
      "outputs": []
    },
    {
      "cell_type": "code",
      "metadata": {
        "id": "2vXxuY5p7dTe"
      },
      "source": [
        "x_train, x_test, y_train, y_test = train_test_split(x, y, random_state = 3)\n",
        "\n",
        "y_train = y_train.astype('int')\n",
        "y_test = y_test.astype('int')"
      ],
      "execution_count": 12,
      "outputs": []
    },
    {
      "cell_type": "code",
      "metadata": {
        "id": "E8bqKl9L7gBK"
      },
      "source": [
        "from sklearn.feature_extraction.text import TfidfVectorizer\n",
        "\n",
        "vectorization = TfidfVectorizer()\n",
        "xv_train = vectorization.fit_transform(x_train)\n",
        "xv_test = vectorization.transform(x_test)"
      ],
      "execution_count": 13,
      "outputs": []
    },
    {
      "cell_type": "markdown",
      "metadata": {
        "id": "L8gPPnht7oDR"
      },
      "source": [
        "### 1. Logistic Regression"
      ]
    },
    {
      "cell_type": "code",
      "metadata": {
        "colab": {
          "base_uri": "https://localhost:8080/"
        },
        "id": "RT94lJsz7lVx",
        "outputId": "65eb2da5-3acb-45ac-cc73-fa8163c7250e"
      },
      "source": [
        "from sklearn.linear_model import LogisticRegression\n",
        "\n",
        "LR_model = LogisticRegression()\n",
        "LR_model.fit(xv_train, y_train)\n",
        "\n",
        "LR_model.score(xv_test, y_test)\n",
        "\n",
        "pred_LR_model = LR_model.predict(xv_test)\n",
        "\n",
        "print(classification_report(y_test, pred_LR_model))"
      ],
      "execution_count": 14,
      "outputs": [
        {
          "output_type": "stream",
          "name": "stdout",
          "text": [
            "              precision    recall  f1-score   support\n",
            "\n",
            "           0       0.93      0.89      0.91       753\n",
            "           1       0.91      0.94      0.92       853\n",
            "\n",
            "    accuracy                           0.92      1606\n",
            "   macro avg       0.92      0.92      0.92      1606\n",
            "weighted avg       0.92      0.92      0.92      1606\n",
            "\n"
          ]
        }
      ]
    },
    {
      "cell_type": "markdown",
      "metadata": {
        "id": "CEmL5DL_7wdr"
      },
      "source": [
        "### 2. Decision Tree Classification"
      ]
    },
    {
      "cell_type": "code",
      "metadata": {
        "colab": {
          "base_uri": "https://localhost:8080/"
        },
        "id": "IoTiVnjN7zoe",
        "outputId": "8adb0a30-6a03-4338-e102-abf8db68992b"
      },
      "source": [
        "from sklearn.tree import DecisionTreeClassifier\n",
        "\n",
        "DT_model = DecisionTreeClassifier()\n",
        "DT_model.fit(xv_train, y_train)\n",
        "\n",
        "DT_model.score(xv_test, y_test)\n",
        "\n",
        "pred_DT_model = DT_model.predict(xv_test)\n",
        "\n",
        "print(classification_report(y_test, pred_DT_model))"
      ],
      "execution_count": 15,
      "outputs": [
        {
          "output_type": "stream",
          "name": "stdout",
          "text": [
            "              precision    recall  f1-score   support\n",
            "\n",
            "           0       0.87      0.84      0.86       753\n",
            "           1       0.86      0.89      0.88       853\n",
            "\n",
            "    accuracy                           0.87      1606\n",
            "   macro avg       0.87      0.87      0.87      1606\n",
            "weighted avg       0.87      0.87      0.87      1606\n",
            "\n"
          ]
        }
      ]
    },
    {
      "cell_type": "markdown",
      "metadata": {
        "id": "p0_Nc2Qc79Y2"
      },
      "source": [
        "### 3. Gradient Boosting Classifier"
      ]
    },
    {
      "cell_type": "code",
      "metadata": {
        "colab": {
          "base_uri": "https://localhost:8080/"
        },
        "id": "8CzL67ks7-yl",
        "outputId": "d490548e-4d53-4c59-a278-2aa91dae6c3e"
      },
      "source": [
        "from sklearn.ensemble import GradientBoostingClassifier\n",
        "\n",
        "GBC_model = GradientBoostingClassifier(random_state=0)\n",
        "GBC_model.fit(xv_train, y_train)\n",
        "\n",
        "GBC_model.score(xv_test, y_test)\n",
        "\n",
        "pred_GBC_model = GBC_model.predict(xv_test)\n",
        "\n",
        "print(classification_report(y_test, pred_GBC_model))"
      ],
      "execution_count": 16,
      "outputs": [
        {
          "output_type": "stream",
          "name": "stdout",
          "text": [
            "              precision    recall  f1-score   support\n",
            "\n",
            "           0       0.89      0.86      0.88       753\n",
            "           1       0.88      0.91      0.89       853\n",
            "\n",
            "    accuracy                           0.89      1606\n",
            "   macro avg       0.89      0.88      0.88      1606\n",
            "weighted avg       0.89      0.89      0.89      1606\n",
            "\n"
          ]
        }
      ]
    },
    {
      "cell_type": "markdown",
      "metadata": {
        "id": "laRbuGQW8A4R"
      },
      "source": [
        "### 4. Random Forest Classifier"
      ]
    },
    {
      "cell_type": "code",
      "metadata": {
        "colab": {
          "base_uri": "https://localhost:8080/"
        },
        "id": "JiHuj3Q88CM7",
        "outputId": "bd93778b-7b41-4ac5-fe46-76cc16e436b6"
      },
      "source": [
        "from sklearn.ensemble import RandomForestClassifier\n",
        "\n",
        "RFC_model = RandomForestClassifier(random_state=0)\n",
        "RFC_model.fit(xv_train, y_train)\n",
        "\n",
        "RFC_model.score(xv_test, y_test)\n",
        "\n",
        "pred_RFC_model = RFC_model.predict(xv_test)\n",
        "\n",
        "print(classification_report(y_test, pred_RFC_model))"
      ],
      "execution_count": 17,
      "outputs": [
        {
          "output_type": "stream",
          "name": "stdout",
          "text": [
            "              precision    recall  f1-score   support\n",
            "\n",
            "           0       0.92      0.90      0.91       753\n",
            "           1       0.91      0.93      0.92       853\n",
            "\n",
            "    accuracy                           0.91      1606\n",
            "   macro avg       0.91      0.91      0.91      1606\n",
            "weighted avg       0.91      0.91      0.91      1606\n",
            "\n"
          ]
        }
      ]
    },
    {
      "cell_type": "code",
      "metadata": {
        "id": "GVXMgylt8FzS"
      },
      "source": [
        "def check_news(n):\n",
        "    if n == 0:\n",
        "        return \"It's A Fake Covid News\"\n",
        "    elif n == 1:\n",
        "        return \"It's Not A Fake Covid News\"\n",
        "    \n",
        "def predicting(news):\n",
        "    testing_news = {\"text\":[news]}\n",
        "    new_def_test = pd.DataFrame(testing_news)\n",
        "    new_def_test[\"text\"] = new_def_test[\"text\"].apply(word_filter) \n",
        "    new_x_test = new_def_test[\"text\"]\n",
        "    new_xv_test = vectorization.transform(new_x_test)\n",
        "    pred_LR = LR_model.predict(new_xv_test)\n",
        "    pred_DT = DT_model.predict(new_xv_test)\n",
        "    pred_GBC = GBC_model.predict(new_xv_test)\n",
        "    pred_RFC = RFC_model.predict(new_xv_test)\n",
        "\n",
        "    return print(\"Logistic Regression Prediction: {} \\nDecision Tree Classification Prediction: {} \\nGradient Boosting Classifier Prediction: {} \\nRandom Forest Classifier Prediction: {}\".format(\n",
        "        check_news(pred_LR[0]), \n",
        "        check_news(pred_DT[0]), \n",
        "        check_news(pred_GBC[0]), \n",
        "        check_news(pred_RFC[0]))\n",
        "    )"
      ],
      "execution_count": 18,
      "outputs": []
    },
    {
      "cell_type": "code",
      "metadata": {
        "colab": {
          "base_uri": "https://localhost:8080/"
        },
        "id": "u7RutDkd8LLY",
        "outputId": "28a48d6e-c2f3-4e30-ada9-7f7bf02b7b29"
      },
      "source": [
        "print(\"News №1\")\n",
        "news = \"New variant classed of concern and named Omicron.\"\n",
        "predicting(news)\n",
        "\n",
        "print(\"==================================================\")\n",
        "\n",
        "print(\"News №2\")\n",
        "news2 = \"The first volunteer to take the human trial vaccine for coronavirus in the UK has died.\"\n",
        "predicting(news2)"
      ],
      "execution_count": 19,
      "outputs": [
        {
          "output_type": "stream",
          "name": "stdout",
          "text": [
            "News №1\n",
            "Logistic Regression Prediction: It's Not A Fake Covid News \n",
            "Decision Tree Classification Prediction: It's Not A Fake Covid News \n",
            "Gradient Boosting Classifier Prediction: It's Not A Fake Covid News \n",
            "Random Forest Classifier Prediction: It's Not A Fake Covid News\n",
            "==================================================\n",
            "News №2\n",
            "Logistic Regression Prediction: It's A Fake Covid News \n",
            "Decision Tree Classification Prediction: It's A Fake Covid News \n",
            "Gradient Boosting Classifier Prediction: It's A Fake Covid News \n",
            "Random Forest Classifier Prediction: It's A Fake Covid News\n"
          ]
        }
      ]
    }
  ]
}